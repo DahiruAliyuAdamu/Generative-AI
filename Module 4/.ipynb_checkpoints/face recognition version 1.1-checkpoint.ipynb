{
 "cells": [
  {
   "cell_type": "code",
   "execution_count": 1,
   "id": "aeb535d3-1b35-4191-ad24-4e17f3050956",
   "metadata": {},
   "outputs": [],
   "source": [
    "import cv2"
   ]
  },
  {
   "cell_type": "code",
   "execution_count": 12,
   "id": "11124faa-aa50-41fa-b715-80b3eb7cb8e3",
   "metadata": {},
   "outputs": [
    {
     "name": "stderr",
     "output_type": "stream",
     "text": [
      "<>:9: SyntaxWarning: \"is\" with a literal. Did you mean \"==\"?\n",
      "<>:9: SyntaxWarning: \"is\" with a literal. Did you mean \"==\"?\n",
      "C:\\Users\\HP\\AppData\\Local\\Temp\\ipykernel_13588\\3890102658.py:9: SyntaxWarning: \"is\" with a literal. Did you mean \"==\"?\n",
      "  if faces is ():\n"
     ]
    }
   ],
   "source": [
    "def generate_dataset():\n",
    "    face_classifier = cv2.CascadeClassifier(\"haarcascade_frontalface_default.xml\")\n",
    "    def face_cropped(img):\n",
    "        gray = cv2.cvtColor(img, cv2.COLOR_BGR2GRAY)\n",
    "        faces = face_classifier.detectMultiScale(gray, 1.3, 5)\n",
    "        #scaling factor = 1.3\n",
    "        #Minimum neighbor = 5\n",
    "\n",
    "        if faces is ():\n",
    "            return None\n",
    "\n",
    "        for (x, y, w, h) in faces:\n",
    "            cropped_face = img[y:y+h, x:x+w]\n",
    "\n",
    "        return cropped_face\n",
    "\n",
    "    cap  = cv2.VideoCapture(0)\n",
    "    id = 1\n",
    "    img_id = 0\n",
    "\n",
    "    while True:\n",
    "        _, frame = cap.read()\n",
    "        if face_cropped(frame) is not None:\n",
    "            img_id += 1\n",
    "            face = cv2.resize(face_cropped(frame), (200, 200))\n",
    "            face = cv2.cvtColor(face, cv2.COLOR_BGR2GRAY)\n",
    "            file_name_path = f\"data/user.{id}.{img_id}.jpg\"\n",
    "            cv2.imwrite(file_name_path, face)\n",
    "            cv2.putText(face, str(img_id), (50, 50), cv2.FONT_HERSHEY_COMPLEX, 1, (0, 255, 0), 2)\n",
    "            # (50, 50) is the origin point from where text is to be written\n",
    "            # font scale = 1\n",
    "            # thickness = 2\n",
    "\n",
    "            cv2.imshow(\"Cropped face\", face)\n",
    "            if cv2.waitKey(1) == 13 or int(img_id) == 200:\n",
    "                break\n",
    "    cap.release()\n",
    "    cv2.destroyAllWindows()\n",
    "    print(\"Collecting samples is completed\")"
   ]
  },
  {
   "cell_type": "code",
   "execution_count": 13,
   "id": "f7920a4f-9bef-4bf1-9a4c-bb56337f7920",
   "metadata": {},
   "outputs": [
    {
     "name": "stdout",
     "output_type": "stream",
     "text": [
      "Collecting samples is completed\n"
     ]
    }
   ],
   "source": [
    "generate_dataset()"
   ]
  },
  {
   "cell_type": "markdown",
   "id": "dbdc3b1d-03c4-4325-96ef-499e2342b0e5",
   "metadata": {},
   "source": [
    "# Train the classifier and save it"
   ]
  },
  {
   "cell_type": "code",
   "execution_count": 4,
   "id": "4dd561bb-c002-4d5b-bc05-7e92c31daf30",
   "metadata": {},
   "outputs": [],
   "source": [
    "import numpy as np\n",
    "from PIL import Image\n",
    "import os\n",
    "import cv2"
   ]
  },
  {
   "cell_type": "code",
   "execution_count": 5,
   "id": "e783491e-96c1-4120-8457-9ac86df0264e",
   "metadata": {},
   "outputs": [],
   "source": [
    "def train_classifier(data_dir):\n",
    "    path = [os.path.join(data_dir, f) for f in os.listdir(data_dir)]\n",
    "    faces = []\n",
    "    ids = []\n",
    "\n",
    "    for image in path:\n",
    "        img = Image.open(image).convert('L')\n",
    "        imageNp = np.array(img, 'uint8')\n",
    "        id = int(os.path.split(image)[1].split('.')[1])\n",
    "\n",
    "        faces.append(imageNp)\n",
    "        ids.append(id)\n",
    "\n",
    "    ids = np.array(ids)\n",
    "\n",
    "    # Train the classifier and save\n",
    "    clf = cv2.face.LBPHFaceRecognizer_create()\n",
    "    clf.train(faces, ids)\n",
    "    clf.write(\"classifier.xml\")\n",
    "    "
   ]
  },
  {
   "cell_type": "code",
   "execution_count": 6,
   "id": "5af929ee-fd10-4326-a612-6cbe66169ec3",
   "metadata": {},
   "outputs": [],
   "source": [
    "train_classifier(\"data\")"
   ]
  },
  {
   "cell_type": "markdown",
   "id": "424ce3ec-e2f9-4afe-91d7-cdfac2017584",
   "metadata": {},
   "source": [
    " # Detect the face and named it if it is already stored in our dataset"
   ]
  },
  {
   "cell_type": "code",
   "execution_count": 14,
   "id": "f25d6bcd-7eee-4d94-98c3-84ce887f0607",
   "metadata": {},
   "outputs": [],
   "source": [
    "def draw_boundary(img, classifier, scaleFactor, minNeighbors, color, text, clf):\n",
    "    gray_image = cv2.cvtColor(img, cv2.COLOR_BGR2GRAY)\n",
    "    features = classifier.detectMultiScale(gray_image, scaleFactor, minNeighbors)\n",
    "\n",
    "    coords = []\n",
    "\n",
    "    for (x, y, w, h) in features:\n",
    "        cv2.rectangle(img, (x, y), (x+w, y+h), color, 2)\n",
    "        id, pred = clf.predict(gray_image[y:y+h, x:x+w])\n",
    "        confidence = int(100 * (1 - pred / 300))\n",
    "\n",
    "        if confidence > 77:\n",
    "            if id == 1:\n",
    "                cv2.putText(img, \"El Hussaini\", (x, y - 5), cv2.FONT_HERSHEY_SIMPLEX, 0.8, color, 1, cv2.LINE_AA)\n",
    "            if id == 2:\n",
    "                cv2.putText(img, \"Dahiru\", (x, y - 5), cv2.FONT_HERSHEY_SIMPLEX, 0.8, color, 1, cv2.LINE_AA)\n",
    "        else:\n",
    "            cv2.putText(img, \"UNKNOWN\", (x, y - 5), cv2.FONT_HERSHEY_SIMPLEX, 0.8, (0,0,255), 1, cv2.LINE_AA)\n",
    "\n",
    "        coords = [x, y, w, h]\n",
    "    return coords\n",
    "\n",
    "def recognize(img, clf, faceCascade):\n",
    "    coords = draw_boundary(img, faceCascade, 1.1, 10, (255,255,255), \"Face\", clf)\n",
    "    return img\n"
   ]
  },
  {
   "cell_type": "code",
   "execution_count": 15,
   "id": "41f39ee4-4d9d-471a-a8d6-e5e60a677cae",
   "metadata": {},
   "outputs": [],
   "source": [
    "faceCascade = face_classifier = cv2.CascadeClassifier(\"haarcascade_frontalface_default.xml\")\n",
    "clf = cv2.face.LBPHFaceRecognizer_create()\n",
    "clf.read(\"classifier.xml\")\n",
    "\n",
    "video_capture = cv2.VideoCapture(0)\n",
    "\n",
    "while True:\n",
    "    _, img = video_capture.read()\n",
    "    img = recognize(img, clf, faceCascade)\n",
    "    cv2.imshow(\"face detection\", img)\n",
    "\n",
    "    if cv2.waitKey(1) == 13:\n",
    "        break\n",
    "\n",
    "video_capture.release()\n",
    "cv2.destroyAllWindows()"
   ]
  },
  {
   "cell_type": "code",
   "execution_count": null,
   "id": "2d02f60f-4925-4226-b929-d32f7e4e089a",
   "metadata": {},
   "outputs": [],
   "source": []
  }
 ],
 "metadata": {
  "kernelspec": {
   "display_name": "Python 3 (ipykernel)",
   "language": "python",
   "name": "python3"
  },
  "language_info": {
   "codemirror_mode": {
    "name": "ipython",
    "version": 3
   },
   "file_extension": ".py",
   "mimetype": "text/x-python",
   "name": "python",
   "nbconvert_exporter": "python",
   "pygments_lexer": "ipython3",
   "version": "3.11.8"
  }
 },
 "nbformat": 4,
 "nbformat_minor": 5
}
