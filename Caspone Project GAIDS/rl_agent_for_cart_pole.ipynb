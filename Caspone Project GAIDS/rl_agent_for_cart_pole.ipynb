{
 "cells": [
  {
   "cell_type": "code",
   "execution_count": 54,
   "metadata": {},
   "outputs": [
    {
     "data": {
      "text/plain": [
       "<torch._C.Generator at 0x1ef042b1230>"
      ]
     },
     "execution_count": 54,
     "metadata": {},
     "output_type": "execute_result"
    }
   ],
   "source": [
    "import gymnasium as gym\n",
    "import torch\n",
    "import random\n",
    "import numpy as np\n",
    "from collections import deque, namedtuple\n",
    "import matplotlib.pyplot as plt\n",
    "from torch import nn\n",
    "from torch.optim import Adam\n",
    "\n",
    "# Set device to GPU if available\n",
    "device = torch.device(\"cuda:0\" if torch.cuda.is_available() else \"cpu\")\n",
    "\n",
    "# Create the CartPole environment\n",
    "env = gym.make('CartPole-v1')\n",
    "\n",
    "# Set seeds for reproducibility\n",
    "env.reset(seed=0)\n",
    "env.action_space.seed(0)\n",
    "env.observation_space.seed(0)\n",
    "np.random.seed(0)\n",
    "torch.manual_seed(0)\n"
   ]
  },
  {
   "cell_type": "code",
   "execution_count": 55,
   "metadata": {},
   "outputs": [],
   "source": [
    "# Define the Q-Network\n",
    "class QNetwork(nn.Module):\n",
    "    def __init__(self, state_size, action_size, seed):\n",
    "        super(QNetwork, self).__init__()\n",
    "        self.seed = torch.manual_seed(seed) # Set the random seed for reproducibility\n",
    "        self.fc1 = nn.Linear(state_size, 64) # first layer that maps from state_size to 64 units\n",
    "        self.fc2 = nn.Linear(64, 64) # second layer that maps from 64 units to another 64 units\n",
    "        self.fc3 = nn.Linear(64, action_size) # final layer that maps from 64 units to action_size (output layer)\n",
    "\n",
    "    def forward(self, state):\n",
    "        x = torch.relu(self.fc1(state))\n",
    "        x = torch.relu(self.fc2(x))\n",
    "        return self.fc3(x) \n"
   ]
  },
  {
   "cell_type": "code",
   "execution_count": 56,
   "metadata": {},
   "outputs": [],
   "source": [
    "# Define the Replay Buffer\n",
    "class ReplayBuffer:\n",
    "    def __init__(self, action_size, buffer_size, batch_size, seed):\n",
    "        self.action_size = action_size\n",
    "        \n",
    "        # Initialize the memory as a deque to store experiences with a maximum length of buffer_size\n",
    "        self.memory = deque(maxlen=buffer_size)\n",
    "        \n",
    "        # Set the size of each training batch\n",
    "        self.batch_size = batch_size\n",
    "        \n",
    "        # Define the experience tuple that will store state, action, reward, next_state, and done flag\n",
    "        self.experience = namedtuple(\"Experience\", field_names=[\"state\", \"action\", \"reward\", \"next_state\", \"done\"])\n",
    "        \n",
    "        # Set the random seed for reproducibility\n",
    "        self.seed = random.seed(seed)\n",
    "\n",
    "    def add(self, state, action, reward, next_state, done):\n",
    "        # Create a new experience tuple\n",
    "        e = self.experience(state, action, reward, next_state, done)\n",
    "        \n",
    "        # Add the experience to the memory buffer\n",
    "        self.memory.append(e)\n",
    "\n",
    "    def sample(self):\n",
    "        # Randomly sample a batch of experiences from the memory buffer\n",
    "        experiences = random.sample(self.memory, k=self.batch_size)\n",
    "        \n",
    "        # Convert the list of experiences into a batch of states, actions, rewards, next_states, and dones\n",
    "        states = torch.from_numpy(np.vstack([e.state for e in experiences if e is not None])).float().to(device)\n",
    "        actions = torch.from_numpy(np.vstack([e.action for e in experiences if e is not None])).long().to(device)\n",
    "        rewards = torch.from_numpy(np.vstack([e.reward for e in experiences if e is not None])).float().to(device)\n",
    "        next_states = torch.from_numpy(np.vstack([e.next_state for e in experiences if e is not None])).float().to(device)\n",
    "        dones = torch.from_numpy(np.vstack([e.done for e in experiences if e is not None]).astype(np.uint8)).float().to(device)\n",
    "        \n",
    "        # Return the sampled batch of experiences as a tuple\n",
    "        return (states, actions, rewards, next_states, dones)\n",
    "\n",
    "    def __len__(self):\n",
    "        return len(self.memory) # Return the current size of the internal memory.\n"
   ]
  },
  {
   "cell_type": "code",
   "execution_count": 57,
   "metadata": {},
   "outputs": [],
   "source": [
    "# Define the DQN Agent\n",
    "class DQNAgent:\n",
    "    def __init__(self, state_size, action_size, seed, buffer_size=10000, batch_size=64, gamma=0.99, lr=0.001, update_every=4, tau=1e-3):\n",
    "        self.state_size = state_size\n",
    "        self.action_size = action_size\n",
    "        self.seed = random.seed(seed)\n",
    "        self.gamma = gamma  # Discount factor\n",
    "        self.batch_size = batch_size\n",
    "        self.update_every = update_every  # Frequency of network updates\n",
    "        self.tau = tau  # For soft update of target network\n",
    "\n",
    "        # Q-Networks\n",
    "        self.qnetwork_local = QNetwork(state_size, action_size, seed).to(device)  # Local Q-Network\n",
    "        self.qnetwork_target = QNetwork(state_size, action_size, seed).to(device)  # Target Q-Network\n",
    "        self.optimizer = Adam(self.qnetwork_local.parameters(), lr=lr)  # Optimizer for the local Q-Network\n",
    "\n",
    "        # Replay memory\n",
    "        self.memory = ReplayBuffer(action_size, buffer_size, batch_size, seed)\n",
    "        self.t_step = 0  # Initialize time step for updating the network\n",
    "\n",
    "    def step(self, state, action, reward, next_state, done):\n",
    "        # Save the experience in the replay memory\n",
    "        self.memory.add(state, action, reward, next_state, done)\n",
    "\n",
    "        # Increment the time step\n",
    "        self.t_step = (self.t_step + 1) % self.update_every\n",
    "        \n",
    "        # Learn every update_every time steps\n",
    "        if self.t_step == 0 and len(self.memory) > self.batch_size:\n",
    "            experiences = self.memory.sample()  # Sample a batch of experiences from memory\n",
    "            self.learn(experiences, self.gamma)  # Learn from the sampled experiences\n",
    "\n",
    "    def act(self, state, eps=0.):\n",
    "        state = torch.from_numpy(state).float().unsqueeze(0).to(device)  # Convert state to torch tensor and add batch dimension\n",
    "        self.qnetwork_local.eval()  # Set local network to evaluation mode\n",
    "        with torch.no_grad():\n",
    "            action_values = self.qnetwork_local(state)  # Get action values from the network\n",
    "        self.qnetwork_local.train()  # Set local network back to training mode\n",
    "        \n",
    "        # Epsilon-greedy action selection\n",
    "        if random.random() > eps:\n",
    "            return np.argmax(action_values.cpu().data.numpy())  # Exploit: choose action with highest value\n",
    "        else:\n",
    "            return random.choice(np.arange(self.action_size))  # Explore: choose a random action\n",
    "\n",
    "    def learn(self, experiences, gamma):\n",
    "        # Update the value parameters using a batch of experience tuples.\n",
    "        states, actions, rewards, next_states, dones = experiences\n",
    "\n",
    "        # Get max predicted Q values (for next states) from target model\n",
    "        Q_targets_next = self.qnetwork_target(next_states).detach().max(1)[0].unsqueeze(1)\n",
    "        \n",
    "        # Compute Q targets for current states\n",
    "        Q_targets = rewards + (gamma * Q_targets_next * (1 - dones))\n",
    "        \n",
    "        # Get expected Q values from local model\n",
    "        Q_expected = self.qnetwork_local(states).gather(1, actions)\n",
    "        \n",
    "        # Compute loss\n",
    "        loss = torch.nn.functional.mse_loss(Q_expected, Q_targets)\n",
    "        \n",
    "        # Minimize the loss\n",
    "        self.optimizer.zero_grad()\n",
    "        loss.backward()\n",
    "        self.optimizer.step()\n",
    "\n",
    "        # Soft update of target network\n",
    "        self.soft_update(self.qnetwork_local, self.qnetwork_target, self.tau)\n",
    "\n",
    "    def soft_update(self, local_model, target_model, tau):\n",
    "        \"\"\"\n",
    "            Soft update model parameters.\n",
    "            θ_target = τ*θ_local + (1 - τ)*θ_target\n",
    "        \"\"\"\n",
    "        for target_param, local_param in zip(target_model.parameters(), local_model.parameters()):\n",
    "            target_param.data.copy_(tau * local_param.data + (1.0 - tau) * target_param.data)\n"
   ]
  },
  {
   "cell_type": "code",
   "execution_count": 58,
   "metadata": {},
   "outputs": [],
   "source": [
    "# Initialize the agent\n",
    "state_size = env.observation_space.shape[0]\n",
    "action_size = env.action_space.n\n",
    "agent = DQNAgent(state_size, action_size, seed=0)"
   ]
  },
  {
   "cell_type": "code",
   "execution_count": 59,
   "metadata": {},
   "outputs": [],
   "source": [
    "# Updated Training Loop\n",
    "def dqn(n_episodes=2000, max_t=1000, eps_start=1.0, eps_end=0.01, eps_decay=0.995):\n",
    "    scores = []\n",
    "    scores_window = deque(maxlen=100)\n",
    "    eps = eps_start\n",
    "    for i_episode in range(1, n_episodes + 1):\n",
    "        state = env.reset()\n",
    "        state = state[0]  # Extract the state array from the tuple\n",
    "        state = np.array(state)  # Convert state to NumPy array\n",
    "        score = 0\n",
    "        for t in range(max_t):\n",
    "            action = agent.act(state, eps)\n",
    "            next_state, reward, done, truncated, _ = env.step(action)  # Unpack all return values\n",
    "            next_state = np.array(next_state)  # Convert next_state to NumPy array\n",
    "            agent.step(state, action, reward, next_state, done or truncated)  # Consider episode done if done or truncated\n",
    "            state = next_state\n",
    "            score += reward\n",
    "            if done or truncated:\n",
    "                break\n",
    "        scores_window.append(score)\n",
    "        scores.append(score)\n",
    "        eps = max(eps_end, eps_decay * eps)\n",
    "        if i_episode % 100 == 0:\n",
    "            print(f'Episode {i_episode}\\tAverage Score: {np.mean(scores_window)}')\n",
    "        if np.mean(scores_window) >= 195.0:\n",
    "            print(f'\\nEnvironment solved in {i_episode} episodes!\\tAverage Score: {np.mean(scores_window)}')\n",
    "            torch.save(agent.qnetwork_local.state_dict(), 'model/checkpoint.pth')\n",
    "            break\n",
    "    return scores\n"
   ]
  },
  {
   "cell_type": "code",
   "execution_count": 60,
   "metadata": {},
   "outputs": [
    {
     "name": "stdout",
     "output_type": "stream",
     "text": [
      "Episode 100\tAverage Score: 15.86\n",
      "Episode 200\tAverage Score: 12.06\n",
      "Episode 300\tAverage Score: 10.85\n",
      "Episode 400\tAverage Score: 10.43\n",
      "Episode 500\tAverage Score: 10.01\n",
      "Episode 600\tAverage Score: 10.1\n",
      "Episode 700\tAverage Score: 11.08\n",
      "Episode 800\tAverage Score: 13.61\n",
      "Episode 900\tAverage Score: 17.68\n",
      "Episode 1000\tAverage Score: 179.18\n",
      "\n",
      "Environment solved in 1008 episodes!\tAverage Score: 195.04\n"
     ]
    },
    {
     "data": {
      "image/png": "[encoded data removed]",
      "text/plain": [
       "<Figure size 640x480 with 1 Axes>"
      ]
     },
     "metadata": {},
     "output_type": "display_data"
    }
   ],
   "source": [
    "scores = dqn()\n",
    "\n",
    "# Plot the scores\n",
    "plt.plot(np.arange(len(scores)), scores)\n",
    "plt.ylabel('Score')\n",
    "plt.xlabel('Episode #')\n",
    "plt.show()"
   ]
  },
  {
   "cell_type": "code",
   "execution_count": null,
   "metadata": {},
   "outputs": [],
   "source": []
  }
 ],
 "metadata": {
  "kernelspec": {
   "display_name": "asthma",
   "language": "python",
   "name": "python3"
  },
  "language_info": {
   "codemirror_mode": {
    "name": "ipython",
    "version": 3
   },
   "file_extension": ".py",
   "mimetype": "text/x-python",
   "name": "python",
   "nbconvert_exporter": "python",
   "pygments_lexer": "ipython3",
   "version": "3.8.18"
  }
 },
 "nbformat": 4,
 "nbformat_minor": 2
}
